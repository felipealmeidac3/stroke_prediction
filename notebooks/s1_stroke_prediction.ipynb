{
 "cells": [
  {
   "cell_type": "markdown",
   "metadata": {},
   "source": [
    "# 0.0. Imports"
   ]
  },
  {
   "cell_type": "code",
   "execution_count": 6,
   "metadata": {
    "ExecuteTime": {
     "end_time": "2021-03-19T22:03:04.089437Z",
     "start_time": "2021-03-19T22:03:03.005657Z"
    }
   },
   "outputs": [],
   "source": [
    "import pandas as pd\n",
    "import seaborn as sns\n",
    "from matplotlib            import pyplot as plt\n",
    "from IPython.core.display  import HTML"
   ]
  },
  {
   "cell_type": "markdown",
   "metadata": {},
   "source": [
    "## 0.1. Useful Functions"
   ]
  },
  {
   "cell_type": "code",
   "execution_count": 34,
   "metadata": {
    "ExecuteTime": {
     "end_time": "2021-03-19T22:15:19.930620Z",
     "start_time": "2021-03-19T22:15:19.921736Z"
    }
   },
   "outputs": [],
   "source": [
    "def jupyter_settings():\n",
    "    %matplotlib inline\n",
    "    %pylab inline\n",
    "    \n",
    "    plt.style.use( 'bmh' )\n",
    "    plt.rcParams['figure.figsize'] = [25, 12]\n",
    "    plt.rcParams['font.size'] = 24\n",
    "    \n",
    "    display( HTML( '<style>.container { width:100% !important; }</style>') )\n",
    "    pd.options.display.max_columns = None\n",
    "    pd.options.display.max_rows = None\n",
    "    pd.set_option( 'display.expand_frame_repr', False )\n",
    "    \n",
    "    sns.set()\n",
    "    sns.set_theme(context = 'notebook', palette = 'Paired')"
   ]
  },
  {
   "cell_type": "code",
   "execution_count": 35,
   "metadata": {
    "ExecuteTime": {
     "end_time": "2021-03-19T22:15:20.448828Z",
     "start_time": "2021-03-19T22:15:20.436444Z"
    }
   },
   "outputs": [
    {
     "name": "stdout",
     "output_type": "stream",
     "text": [
      "Populating the interactive namespace from numpy and matplotlib\n"
     ]
    },
    {
     "data": {
      "text/html": [
       "<style>.container { width:100% !important; }</style>"
      ],
      "text/plain": [
       "<IPython.core.display.HTML object>"
      ]
     },
     "metadata": {},
     "output_type": "display_data"
    }
   ],
   "source": [
    "jupyter_settings()"
   ]
  },
  {
   "cell_type": "markdown",
   "metadata": {},
   "source": [
    "## 0.2. Loading the Data"
   ]
  },
  {
   "cell_type": "code",
   "execution_count": 14,
   "metadata": {
    "ExecuteTime": {
     "end_time": "2021-03-19T22:05:18.625796Z",
     "start_time": "2021-03-19T22:05:18.606462Z"
    }
   },
   "outputs": [],
   "source": [
    "df = pd.read_csv('../data/healthcare-dataset-stroke-data.csv')"
   ]
  },
  {
   "cell_type": "markdown",
   "metadata": {},
   "source": [
    "# 1.0. Data Description"
   ]
  },
  {
   "cell_type": "code",
   "execution_count": 15,
   "metadata": {
    "ExecuteTime": {
     "end_time": "2021-03-19T22:05:19.315940Z",
     "start_time": "2021-03-19T22:05:19.295263Z"
    },
    "scrolled": true
   },
   "outputs": [
    {
     "data": {
      "text/html": [
       "<div>\n",
       "<style scoped>\n",
       "    .dataframe tbody tr th:only-of-type {\n",
       "        vertical-align: middle;\n",
       "    }\n",
       "\n",
       "    .dataframe tbody tr th {\n",
       "        vertical-align: top;\n",
       "    }\n",
       "\n",
       "    .dataframe thead th {\n",
       "        text-align: right;\n",
       "    }\n",
       "</style>\n",
       "<table border=\"1\" class=\"dataframe\">\n",
       "  <thead>\n",
       "    <tr style=\"text-align: right;\">\n",
       "      <th></th>\n",
       "      <th>id</th>\n",
       "      <th>gender</th>\n",
       "      <th>age</th>\n",
       "      <th>hypertension</th>\n",
       "      <th>heart_disease</th>\n",
       "      <th>ever_married</th>\n",
       "      <th>work_type</th>\n",
       "      <th>Residence_type</th>\n",
       "      <th>avg_glucose_level</th>\n",
       "      <th>bmi</th>\n",
       "      <th>smoking_status</th>\n",
       "      <th>stroke</th>\n",
       "    </tr>\n",
       "  </thead>\n",
       "  <tbody>\n",
       "    <tr>\n",
       "      <th>0</th>\n",
       "      <td>9046</td>\n",
       "      <td>Male</td>\n",
       "      <td>67.0</td>\n",
       "      <td>0</td>\n",
       "      <td>1</td>\n",
       "      <td>Yes</td>\n",
       "      <td>Private</td>\n",
       "      <td>Urban</td>\n",
       "      <td>228.69</td>\n",
       "      <td>36.6</td>\n",
       "      <td>formerly smoked</td>\n",
       "      <td>1</td>\n",
       "    </tr>\n",
       "    <tr>\n",
       "      <th>1</th>\n",
       "      <td>51676</td>\n",
       "      <td>Female</td>\n",
       "      <td>61.0</td>\n",
       "      <td>0</td>\n",
       "      <td>0</td>\n",
       "      <td>Yes</td>\n",
       "      <td>Self-employed</td>\n",
       "      <td>Rural</td>\n",
       "      <td>202.21</td>\n",
       "      <td>NaN</td>\n",
       "      <td>never smoked</td>\n",
       "      <td>1</td>\n",
       "    </tr>\n",
       "    <tr>\n",
       "      <th>2</th>\n",
       "      <td>31112</td>\n",
       "      <td>Male</td>\n",
       "      <td>80.0</td>\n",
       "      <td>0</td>\n",
       "      <td>1</td>\n",
       "      <td>Yes</td>\n",
       "      <td>Private</td>\n",
       "      <td>Rural</td>\n",
       "      <td>105.92</td>\n",
       "      <td>32.5</td>\n",
       "      <td>never smoked</td>\n",
       "      <td>1</td>\n",
       "    </tr>\n",
       "    <tr>\n",
       "      <th>3</th>\n",
       "      <td>60182</td>\n",
       "      <td>Female</td>\n",
       "      <td>49.0</td>\n",
       "      <td>0</td>\n",
       "      <td>0</td>\n",
       "      <td>Yes</td>\n",
       "      <td>Private</td>\n",
       "      <td>Urban</td>\n",
       "      <td>171.23</td>\n",
       "      <td>34.4</td>\n",
       "      <td>smokes</td>\n",
       "      <td>1</td>\n",
       "    </tr>\n",
       "    <tr>\n",
       "      <th>4</th>\n",
       "      <td>1665</td>\n",
       "      <td>Female</td>\n",
       "      <td>79.0</td>\n",
       "      <td>1</td>\n",
       "      <td>0</td>\n",
       "      <td>Yes</td>\n",
       "      <td>Self-employed</td>\n",
       "      <td>Rural</td>\n",
       "      <td>174.12</td>\n",
       "      <td>24.0</td>\n",
       "      <td>never smoked</td>\n",
       "      <td>1</td>\n",
       "    </tr>\n",
       "  </tbody>\n",
       "</table>\n",
       "</div>"
      ],
      "text/plain": [
       "      id  gender   age  hypertension  heart_disease ever_married      work_type Residence_type  avg_glucose_level   bmi   smoking_status  stroke\n",
       "0   9046    Male  67.0             0              1          Yes        Private          Urban             228.69  36.6  formerly smoked       1\n",
       "1  51676  Female  61.0             0              0          Yes  Self-employed          Rural             202.21   NaN     never smoked       1\n",
       "2  31112    Male  80.0             0              1          Yes        Private          Rural             105.92  32.5     never smoked       1\n",
       "3  60182  Female  49.0             0              0          Yes        Private          Urban             171.23  34.4           smokes       1\n",
       "4   1665  Female  79.0             1              0          Yes  Self-employed          Rural             174.12  24.0     never smoked       1"
      ]
     },
     "execution_count": 15,
     "metadata": {},
     "output_type": "execute_result"
    }
   ],
   "source": [
    "df.head()"
   ]
  },
  {
   "cell_type": "markdown",
   "metadata": {},
   "source": [
    "## 1.1. Renaming Residence Column"
   ]
  },
  {
   "cell_type": "code",
   "execution_count": 18,
   "metadata": {
    "ExecuteTime": {
     "end_time": "2021-03-19T22:05:43.042969Z",
     "start_time": "2021-03-19T22:05:43.038646Z"
    },
    "scrolled": false
   },
   "outputs": [],
   "source": [
    "df.rename(columns = {'Residence_type': 'residence_type'}, inplace = True)"
   ]
  },
  {
   "cell_type": "code",
   "execution_count": 20,
   "metadata": {
    "ExecuteTime": {
     "end_time": "2021-03-19T22:05:51.144200Z",
     "start_time": "2021-03-19T22:05:51.138372Z"
    }
   },
   "outputs": [
    {
     "data": {
      "text/plain": [
       "Index(['id', 'gender', 'age', 'hypertension', 'heart_disease', 'ever_married',\n",
       "       'work_type', 'residence_type', 'avg_glucose_level', 'bmi',\n",
       "       'smoking_status', 'stroke'],\n",
       "      dtype='object')"
      ]
     },
     "execution_count": 20,
     "metadata": {},
     "output_type": "execute_result"
    }
   ],
   "source": [
    "df.columns"
   ]
  },
  {
   "cell_type": "markdown",
   "metadata": {},
   "source": [
    "## 1.2. Data Dimensions"
   ]
  },
  {
   "cell_type": "code",
   "execution_count": 21,
   "metadata": {
    "ExecuteTime": {
     "end_time": "2021-03-19T22:06:14.210297Z",
     "start_time": "2021-03-19T22:06:14.205520Z"
    }
   },
   "outputs": [
    {
     "name": "stdout",
     "output_type": "stream",
     "text": [
      "Number of Rows: 5110\n",
      "Number of Cols: 12\n"
     ]
    }
   ],
   "source": [
    "print( 'Number of Rows: {}'.format( df.shape[0] ) )\n",
    "print( 'Number of Cols: {}'.format( df.shape[1] ) )"
   ]
  },
  {
   "cell_type": "markdown",
   "metadata": {},
   "source": [
    "## 1.3. Data Types"
   ]
  },
  {
   "cell_type": "code",
   "execution_count": 22,
   "metadata": {
    "ExecuteTime": {
     "end_time": "2021-03-19T22:06:29.149483Z",
     "start_time": "2021-03-19T22:06:29.141983Z"
    }
   },
   "outputs": [
    {
     "data": {
      "text/plain": [
       "id                     int64\n",
       "gender                object\n",
       "age                  float64\n",
       "hypertension           int64\n",
       "heart_disease          int64\n",
       "ever_married          object\n",
       "work_type             object\n",
       "residence_type        object\n",
       "avg_glucose_level    float64\n",
       "bmi                  float64\n",
       "smoking_status        object\n",
       "stroke                 int64\n",
       "dtype: object"
      ]
     },
     "execution_count": 22,
     "metadata": {},
     "output_type": "execute_result"
    }
   ],
   "source": [
    "df.dtypes"
   ]
  },
  {
   "cell_type": "markdown",
   "metadata": {},
   "source": [
    "## 1.4. Check for Null Values"
   ]
  },
  {
   "cell_type": "code",
   "execution_count": 23,
   "metadata": {
    "ExecuteTime": {
     "end_time": "2021-03-19T22:07:10.330612Z",
     "start_time": "2021-03-19T22:07:10.319940Z"
    }
   },
   "outputs": [
    {
     "data": {
      "text/plain": [
       "id                     0\n",
       "gender                 0\n",
       "age                    0\n",
       "hypertension           0\n",
       "heart_disease          0\n",
       "ever_married           0\n",
       "work_type              0\n",
       "residence_type         0\n",
       "avg_glucose_level      0\n",
       "bmi                  201\n",
       "smoking_status         0\n",
       "stroke                 0\n",
       "dtype: int64"
      ]
     },
     "execution_count": 23,
     "metadata": {},
     "output_type": "execute_result"
    }
   ],
   "source": [
    "df.isna().sum()"
   ]
  },
  {
   "cell_type": "markdown",
   "metadata": {},
   "source": [
    "## 1.5. Drop NA Values"
   ]
  },
  {
   "cell_type": "code",
   "execution_count": 24,
   "metadata": {
    "ExecuteTime": {
     "end_time": "2021-03-19T22:08:35.490444Z",
     "start_time": "2021-03-19T22:08:35.473849Z"
    }
   },
   "outputs": [],
   "source": [
    "df.dropna(axis = 0, inplace = True)"
   ]
  },
  {
   "cell_type": "code",
   "execution_count": 25,
   "metadata": {
    "ExecuteTime": {
     "end_time": "2021-03-19T22:08:38.473777Z",
     "start_time": "2021-03-19T22:08:38.457011Z"
    }
   },
   "outputs": [
    {
     "data": {
      "text/plain": [
       "id                   0\n",
       "gender               0\n",
       "age                  0\n",
       "hypertension         0\n",
       "heart_disease        0\n",
       "ever_married         0\n",
       "work_type            0\n",
       "residence_type       0\n",
       "avg_glucose_level    0\n",
       "bmi                  0\n",
       "smoking_status       0\n",
       "stroke               0\n",
       "dtype: int64"
      ]
     },
     "execution_count": 25,
     "metadata": {},
     "output_type": "execute_result"
    }
   ],
   "source": [
    "df.isna().sum()"
   ]
  },
  {
   "cell_type": "markdown",
   "metadata": {},
   "source": [
    "## 1.6. Descriptive Statistics"
   ]
  },
  {
   "cell_type": "markdown",
   "metadata": {},
   "source": [
    "### 1.6.1. Numerical Attributes"
   ]
  },
  {
   "cell_type": "code",
   "execution_count": 37,
   "metadata": {
    "ExecuteTime": {
     "end_time": "2021-03-19T22:16:01.843046Z",
     "start_time": "2021-03-19T22:16:01.836067Z"
    }
   },
   "outputs": [],
   "source": [
    "aux = df.select_dtypes(include = ['int64', 'float64'])"
   ]
  },
  {
   "cell_type": "code",
   "execution_count": 38,
   "metadata": {
    "ExecuteTime": {
     "end_time": "2021-03-19T22:16:03.049863Z",
     "start_time": "2021-03-19T22:16:02.970174Z"
    }
   },
   "outputs": [
    {
     "data": {
      "text/html": [
       "<div>\n",
       "<style scoped>\n",
       "    .dataframe tbody tr th:only-of-type {\n",
       "        vertical-align: middle;\n",
       "    }\n",
       "\n",
       "    .dataframe tbody tr th {\n",
       "        vertical-align: top;\n",
       "    }\n",
       "\n",
       "    .dataframe thead th {\n",
       "        text-align: right;\n",
       "    }\n",
       "</style>\n",
       "<table border=\"1\" class=\"dataframe\">\n",
       "  <thead>\n",
       "    <tr style=\"text-align: right;\">\n",
       "      <th></th>\n",
       "      <th>attributes</th>\n",
       "      <th>min</th>\n",
       "      <th>max</th>\n",
       "      <th>range</th>\n",
       "      <th>mean</th>\n",
       "      <th>median</th>\n",
       "      <th>std</th>\n",
       "      <th>skew</th>\n",
       "      <th>kurtosis</th>\n",
       "    </tr>\n",
       "  </thead>\n",
       "  <tbody>\n",
       "    <tr>\n",
       "      <th>0</th>\n",
       "      <td>id</td>\n",
       "      <td>77.00</td>\n",
       "      <td>72940.00</td>\n",
       "      <td>72863.00</td>\n",
       "      <td>37064.313506</td>\n",
       "      <td>37608.00</td>\n",
       "      <td>20992.959919</td>\n",
       "      <td>-0.039951</td>\n",
       "      <td>-1.205060</td>\n",
       "    </tr>\n",
       "    <tr>\n",
       "      <th>1</th>\n",
       "      <td>age</td>\n",
       "      <td>0.08</td>\n",
       "      <td>82.00</td>\n",
       "      <td>81.92</td>\n",
       "      <td>42.865374</td>\n",
       "      <td>44.00</td>\n",
       "      <td>22.552818</td>\n",
       "      <td>-0.119070</td>\n",
       "      <td>-0.988091</td>\n",
       "    </tr>\n",
       "    <tr>\n",
       "      <th>2</th>\n",
       "      <td>hypertension</td>\n",
       "      <td>0.00</td>\n",
       "      <td>1.00</td>\n",
       "      <td>1.00</td>\n",
       "      <td>0.091872</td>\n",
       "      <td>0.00</td>\n",
       "      <td>0.288845</td>\n",
       "      <td>2.826791</td>\n",
       "      <td>5.993192</td>\n",
       "    </tr>\n",
       "    <tr>\n",
       "      <th>3</th>\n",
       "      <td>heart_disease</td>\n",
       "      <td>0.00</td>\n",
       "      <td>1.00</td>\n",
       "      <td>1.00</td>\n",
       "      <td>0.049501</td>\n",
       "      <td>0.00</td>\n",
       "      <td>0.216911</td>\n",
       "      <td>4.155030</td>\n",
       "      <td>15.270496</td>\n",
       "    </tr>\n",
       "    <tr>\n",
       "      <th>4</th>\n",
       "      <td>avg_glucose_level</td>\n",
       "      <td>55.12</td>\n",
       "      <td>271.74</td>\n",
       "      <td>216.62</td>\n",
       "      <td>105.305150</td>\n",
       "      <td>91.68</td>\n",
       "      <td>44.419816</td>\n",
       "      <td>1.614026</td>\n",
       "      <td>1.905601</td>\n",
       "    </tr>\n",
       "    <tr>\n",
       "      <th>5</th>\n",
       "      <td>bmi</td>\n",
       "      <td>10.30</td>\n",
       "      <td>97.60</td>\n",
       "      <td>87.30</td>\n",
       "      <td>28.893237</td>\n",
       "      <td>28.10</td>\n",
       "      <td>7.853267</td>\n",
       "      <td>1.055340</td>\n",
       "      <td>3.362659</td>\n",
       "    </tr>\n",
       "    <tr>\n",
       "      <th>6</th>\n",
       "      <td>stroke</td>\n",
       "      <td>0.00</td>\n",
       "      <td>1.00</td>\n",
       "      <td>1.00</td>\n",
       "      <td>0.042575</td>\n",
       "      <td>0.00</td>\n",
       "      <td>0.201897</td>\n",
       "      <td>4.532666</td>\n",
       "      <td>18.552620</td>\n",
       "    </tr>\n",
       "  </tbody>\n",
       "</table>\n",
       "</div>"
      ],
      "text/plain": [
       "          attributes    min       max     range          mean    median           std      skew   kurtosis\n",
       "0                 id  77.00  72940.00  72863.00  37064.313506  37608.00  20992.959919 -0.039951  -1.205060\n",
       "1                age   0.08     82.00     81.92     42.865374     44.00     22.552818 -0.119070  -0.988091\n",
       "2       hypertension   0.00      1.00      1.00      0.091872      0.00      0.288845  2.826791   5.993192\n",
       "3      heart_disease   0.00      1.00      1.00      0.049501      0.00      0.216911  4.155030  15.270496\n",
       "4  avg_glucose_level  55.12    271.74    216.62    105.305150     91.68     44.419816  1.614026   1.905601\n",
       "5                bmi  10.30     97.60     87.30     28.893237     28.10      7.853267  1.055340   3.362659\n",
       "6             stroke   0.00      1.00      1.00      0.042575      0.00      0.201897  4.532666  18.552620"
      ]
     },
     "execution_count": 38,
     "metadata": {},
     "output_type": "execute_result"
    }
   ],
   "source": [
    "# Mean and Median\n",
    "ct1 = pd.DataFrame( aux.apply( np.mean ) ).T\n",
    "ct2 = pd.DataFrame( aux.apply( np.median ) ).T\n",
    "\n",
    "# STD, Min, Max, Range, Skew and Kurtosis\n",
    "d1 = pd.DataFrame( aux.apply( np.std ) ).T \n",
    "d2 = pd.DataFrame( aux.apply( min ) ).T \n",
    "d3 = pd.DataFrame( aux.apply( max ) ).T \n",
    "d4 = pd.DataFrame( aux.apply( lambda x: x.max() - x.min() ) ).T \n",
    "d5 = pd.DataFrame( aux.apply( lambda x: x.skew() ) ).T \n",
    "d6 = pd.DataFrame( aux.apply( lambda x: x.kurtosis() ) ).T \n",
    "\n",
    "m = pd.concat( [d2, d3, d4, ct1, ct2, d1, d5, d6] ).T.reset_index()\n",
    "m.columns = ['attributes', 'min', 'max', 'range', 'mean', 'median', 'std', 'skew', 'kurtosis']\n",
    "m"
   ]
  },
  {
   "cell_type": "markdown",
   "metadata": {},
   "source": [
    "### 1.6.2. Categorical Attributes"
   ]
  },
  {
   "cell_type": "code",
   "execution_count": 40,
   "metadata": {
    "ExecuteTime": {
     "end_time": "2021-03-19T22:16:52.855061Z",
     "start_time": "2021-03-19T22:16:51.820492Z"
    }
   },
   "outputs": [
    {
     "data": {
      "image/png": "[encoded data removed]",
      "text/plain": [
       "<Figure size 1800x864 with 5 Axes>"
      ]
     },
     "metadata": {},
     "output_type": "display_data"
    }
   ],
   "source": [
    "plt.subplot(2, 3, 1)\n",
    "sns.countplot(data = df, x = 'gender');\n",
    "\n",
    "plt.subplot(2, 3, 2)\n",
    "sns.countplot(data = df, x = 'ever_married');\n",
    "\n",
    "plt.subplot(2, 3, 3)\n",
    "sns.countplot(data = df, x = 'work_type');\n",
    "\n",
    "plt.subplot(2, 3, 4)\n",
    "sns.countplot(data = df, x = 'residence_type');\n",
    "\n",
    "plt.subplot(2, 3, 5)\n",
    "sns.countplot(data = df, x = 'smoking_status');"
   ]
  }
 ],
 "metadata": {
  "hide_input": false,
  "kernelspec": {
   "display_name": "Python 3",
   "language": "python",
   "name": "python3"
  },
  "language_info": {
   "codemirror_mode": {
    "name": "ipython",
    "version": 3
   },
   "file_extension": ".py",
   "mimetype": "text/x-python",
   "name": "python",
   "nbconvert_exporter": "python",
   "pygments_lexer": "ipython3",
   "version": "3.8.0"
  }
 },
 "nbformat": 4,
 "nbformat_minor": 4
}
